{
 "cells": [
  {
   "cell_type": "markdown",
   "id": "43c147b1",
   "metadata": {},
   "source": [
    "# First Title"
   ]
  },
  {
   "cell_type": "code",
   "execution_count": 1,
   "id": "dcea4363",
   "metadata": {},
   "outputs": [
    {
     "name": "stdout",
     "output_type": "stream",
     "text": [
      "Hello\n"
     ]
    }
   ],
   "source": [
    "print(\"Hello\")"
   ]
  },
  {
   "cell_type": "raw",
   "id": "0b0ec837",
   "metadata": {},
   "source": [
    "ceci est un texte. ce n'est pas du code donc blablba cdcee"
   ]
  },
  {
   "cell_type": "code",
   "execution_count": 2,
   "id": "59fe7126",
   "metadata": {},
   "outputs": [
    {
     "name": "stdout",
     "output_type": "stream",
     "text": [
      "Today\n"
     ]
    }
   ],
   "source": [
    "print(\"Today\")"
   ]
  },
  {
   "cell_type": "code",
   "execution_count": null,
   "id": "9f8ddb11",
   "metadata": {},
   "outputs": [],
   "source": []
  }
 ],
 "metadata": {
  "kernelspec": {
   "display_name": "Python 3 (ipykernel)",
   "language": "python",
   "name": "python3"
  },
  "language_info": {
   "codemirror_mode": {
    "name": "ipython",
    "version": 3
   },
   "file_extension": ".py",
   "mimetype": "text/x-python",
   "name": "python",
   "nbconvert_exporter": "python",
   "pygments_lexer": "ipython3",
   "version": "3.9.12"
  }
 },
 "nbformat": 4,
 "nbformat_minor": 5
}
